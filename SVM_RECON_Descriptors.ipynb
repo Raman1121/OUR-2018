{
  "nbformat": 4,
  "nbformat_minor": 0,
  "metadata": {
    "colab": {
      "name": "SVM RECON Descriptors.ipynb",
      "version": "0.3.2",
      "provenance": [],
      "collapsed_sections": []
    },
    "kernelspec": {
      "name": "python3",
      "display_name": "Python 3"
    },
    "accelerator": "GPU"
  },
  "cells": [
    {
      "metadata": {
        "id": "Cg6v0LCnhFbj",
        "colab_type": "code",
        "colab": {}
      },
      "cell_type": "code",
      "source": [
        "import numpy as np\n",
        "import pandas as pd\n",
        "import matplotlib.pyplot as plt\n",
        "%matplotlib inline"
      ],
      "execution_count": 0,
      "outputs": []
    },
    {
      "metadata": {
        "id": "CFeskiSvhIJ_",
        "colab_type": "code",
        "colab": {}
      },
      "cell_type": "code",
      "source": [
        "!pip install -U -q PyDrive"
      ],
      "execution_count": 0,
      "outputs": []
    },
    {
      "metadata": {
        "id": "JLgyJ73DhMQh",
        "colab_type": "code",
        "colab": {}
      },
      "cell_type": "code",
      "source": [
        "from pydrive.auth import GoogleAuth\n",
        "from pydrive.drive import GoogleDrive\n",
        "from google.colab import auth\n",
        "from oauth2client.client import GoogleCredentials"
      ],
      "execution_count": 0,
      "outputs": []
    },
    {
      "metadata": {
        "id": "ZR93FjO3hOh8",
        "colab_type": "code",
        "colab": {}
      },
      "cell_type": "code",
      "source": [
        "auth.authenticate_user()\n",
        "gauth = GoogleAuth()\n",
        "gauth.credentials = GoogleCredentials.get_application_default()\n",
        "drive = GoogleDrive(gauth)"
      ],
      "execution_count": 0,
      "outputs": []
    },
    {
      "metadata": {
        "id": "8qLml_tshP0U",
        "colab_type": "code",
        "colab": {
          "base_uri": "https://localhost:8080/",
          "height": 35
        },
        "outputId": "92b1ce3b-c5e8-47dc-e712-26f008f86341"
      },
      "cell_type": "code",
      "source": [
        "link = 'https://drive.google.com/open?id=17SEdE-e3PW40h2P7ms9p_k5rA5S03lJS'\n",
        "fluff, id = link.split('=')\n",
        "print(id)"
      ],
      "execution_count": 5,
      "outputs": [
        {
          "output_type": "stream",
          "text": [
            "17SEdE-e3PW40h2P7ms9p_k5rA5S03lJS\n"
          ],
          "name": "stdout"
        }
      ]
    },
    {
      "metadata": {
        "id": "RdHvth-2hZrj",
        "colab_type": "code",
        "colab": {}
      },
      "cell_type": "code",
      "source": [
        "downloaded = drive.CreateFile({'id':id}) \n",
        "downloaded.GetContentFile('Filename.csv') "
      ],
      "execution_count": 0,
      "outputs": []
    },
    {
      "metadata": {
        "id": "8hb1RE1zhbqL",
        "colab_type": "code",
        "colab": {}
      },
      "cell_type": "code",
      "source": [
        "import pandas as pd"
      ],
      "execution_count": 0,
      "outputs": []
    },
    {
      "metadata": {
        "id": "kvMLraw0hgtO",
        "colab_type": "code",
        "colab": {}
      },
      "cell_type": "code",
      "source": [
        "df3 = pd.read_csv('Filename.csv')\n"
      ],
      "execution_count": 0,
      "outputs": []
    },
    {
      "metadata": {
        "id": "KsW8na55hiOV",
        "colab_type": "code",
        "colab": {
          "base_uri": "https://localhost:8080/",
          "height": 338
        },
        "outputId": "000f9291-21cc-4fba-f112-7172676a26fc"
      },
      "cell_type": "code",
      "source": [
        "df3.head()"
      ],
      "execution_count": 9,
      "outputs": [
        {
          "output_type": "execute_result",
          "data": {
            "text/html": [
              "<div>\n",
              "<style scoped>\n",
              "    .dataframe tbody tr th:only-of-type {\n",
              "        vertical-align: middle;\n",
              "    }\n",
              "\n",
              "    .dataframe tbody tr th {\n",
              "        vertical-align: top;\n",
              "    }\n",
              "\n",
              "    .dataframe thead th {\n",
              "        text-align: right;\n",
              "    }\n",
              "</style>\n",
              "<table border=\"1\" class=\"dataframe\">\n",
              "  <thead>\n",
              "    <tr style=\"text-align: right;\">\n",
              "      <th></th>\n",
              "      <th>Energy</th>\n",
              "      <th>Population</th>\n",
              "      <th>VOLTAE</th>\n",
              "      <th>SurfArea</th>\n",
              "      <th>SIDel(Rho)N</th>\n",
              "      <th>Del(Rho)NMin</th>\n",
              "      <th>Del(Rho)NMax</th>\n",
              "      <th>Del(Rho)NIA</th>\n",
              "      <th>Del(Rho)NA1</th>\n",
              "      <th>Del(Rho)NA2</th>\n",
              "      <th>...</th>\n",
              "      <th>Flapl3</th>\n",
              "      <th>Flapl4</th>\n",
              "      <th>Flapl5</th>\n",
              "      <th>Flapl6</th>\n",
              "      <th>Flapl7</th>\n",
              "      <th>Flapl8</th>\n",
              "      <th>Flapl9</th>\n",
              "      <th>Flapl10</th>\n",
              "      <th>chi</th>\n",
              "      <th>Label</th>\n",
              "    </tr>\n",
              "  </thead>\n",
              "  <tbody>\n",
              "    <tr>\n",
              "      <th>0</th>\n",
              "      <td>-1330.0</td>\n",
              "      <td>227.0</td>\n",
              "      <td>3240.0</td>\n",
              "      <td>1760.0</td>\n",
              "      <td>-7.28</td>\n",
              "      <td>-0.000497</td>\n",
              "      <td>0.000627</td>\n",
              "      <td>-0.00414</td>\n",
              "      <td>4.12</td>\n",
              "      <td>30.2</td>\n",
              "      <td>...</td>\n",
              "      <td>0.00253</td>\n",
              "      <td>0.00216</td>\n",
              "      <td>0.00526</td>\n",
              "      <td>0.0226</td>\n",
              "      <td>0.0784</td>\n",
              "      <td>0.389</td>\n",
              "      <td>0.491</td>\n",
              "      <td>5.390000e-08</td>\n",
              "      <td>14.3</td>\n",
              "      <td>0.0</td>\n",
              "    </tr>\n",
              "    <tr>\n",
              "      <th>1</th>\n",
              "      <td>-1330.0</td>\n",
              "      <td>227.0</td>\n",
              "      <td>3240.0</td>\n",
              "      <td>1760.0</td>\n",
              "      <td>-7.28</td>\n",
              "      <td>-0.000497</td>\n",
              "      <td>0.000627</td>\n",
              "      <td>-0.00414</td>\n",
              "      <td>4.12</td>\n",
              "      <td>30.2</td>\n",
              "      <td>...</td>\n",
              "      <td>0.00253</td>\n",
              "      <td>0.00216</td>\n",
              "      <td>0.00526</td>\n",
              "      <td>0.0226</td>\n",
              "      <td>0.0784</td>\n",
              "      <td>0.389</td>\n",
              "      <td>0.491</td>\n",
              "      <td>5.390000e-08</td>\n",
              "      <td>14.3</td>\n",
              "      <td>0.0</td>\n",
              "    </tr>\n",
              "    <tr>\n",
              "      <th>2</th>\n",
              "      <td>-1330.0</td>\n",
              "      <td>227.0</td>\n",
              "      <td>3240.0</td>\n",
              "      <td>1760.0</td>\n",
              "      <td>-7.28</td>\n",
              "      <td>-0.000497</td>\n",
              "      <td>0.000627</td>\n",
              "      <td>-0.00414</td>\n",
              "      <td>4.12</td>\n",
              "      <td>30.2</td>\n",
              "      <td>...</td>\n",
              "      <td>0.00253</td>\n",
              "      <td>0.00216</td>\n",
              "      <td>0.00526</td>\n",
              "      <td>0.0226</td>\n",
              "      <td>0.0784</td>\n",
              "      <td>0.389</td>\n",
              "      <td>0.491</td>\n",
              "      <td>5.390000e-08</td>\n",
              "      <td>14.3</td>\n",
              "      <td>0.0</td>\n",
              "    </tr>\n",
              "    <tr>\n",
              "      <th>3</th>\n",
              "      <td>-1330.0</td>\n",
              "      <td>227.0</td>\n",
              "      <td>3240.0</td>\n",
              "      <td>1760.0</td>\n",
              "      <td>-7.28</td>\n",
              "      <td>-0.000497</td>\n",
              "      <td>0.000627</td>\n",
              "      <td>-0.00414</td>\n",
              "      <td>4.12</td>\n",
              "      <td>30.2</td>\n",
              "      <td>...</td>\n",
              "      <td>0.00253</td>\n",
              "      <td>0.00216</td>\n",
              "      <td>0.00526</td>\n",
              "      <td>0.0226</td>\n",
              "      <td>0.0784</td>\n",
              "      <td>0.389</td>\n",
              "      <td>0.491</td>\n",
              "      <td>5.390000e-08</td>\n",
              "      <td>14.3</td>\n",
              "      <td>0.0</td>\n",
              "    </tr>\n",
              "    <tr>\n",
              "      <th>4</th>\n",
              "      <td>-1330.0</td>\n",
              "      <td>227.0</td>\n",
              "      <td>3240.0</td>\n",
              "      <td>1760.0</td>\n",
              "      <td>-7.28</td>\n",
              "      <td>-0.000497</td>\n",
              "      <td>0.000627</td>\n",
              "      <td>-0.00414</td>\n",
              "      <td>4.12</td>\n",
              "      <td>30.2</td>\n",
              "      <td>...</td>\n",
              "      <td>0.00253</td>\n",
              "      <td>0.00216</td>\n",
              "      <td>0.00526</td>\n",
              "      <td>0.0226</td>\n",
              "      <td>0.0784</td>\n",
              "      <td>0.389</td>\n",
              "      <td>0.491</td>\n",
              "      <td>5.390000e-08</td>\n",
              "      <td>14.3</td>\n",
              "      <td>0.0</td>\n",
              "    </tr>\n",
              "  </tbody>\n",
              "</table>\n",
              "<p>5 rows × 249 columns</p>\n",
              "</div>"
            ],
            "text/plain": [
              "   Energy  Population  VOLTAE  SurfArea  SIDel(Rho)N  Del(Rho)NMin  \\\n",
              "0 -1330.0       227.0  3240.0    1760.0        -7.28     -0.000497   \n",
              "1 -1330.0       227.0  3240.0    1760.0        -7.28     -0.000497   \n",
              "2 -1330.0       227.0  3240.0    1760.0        -7.28     -0.000497   \n",
              "3 -1330.0       227.0  3240.0    1760.0        -7.28     -0.000497   \n",
              "4 -1330.0       227.0  3240.0    1760.0        -7.28     -0.000497   \n",
              "\n",
              "   Del(Rho)NMax  Del(Rho)NIA  Del(Rho)NA1  Del(Rho)NA2  ...     Flapl3  \\\n",
              "0      0.000627     -0.00414         4.12         30.2  ...    0.00253   \n",
              "1      0.000627     -0.00414         4.12         30.2  ...    0.00253   \n",
              "2      0.000627     -0.00414         4.12         30.2  ...    0.00253   \n",
              "3      0.000627     -0.00414         4.12         30.2  ...    0.00253   \n",
              "4      0.000627     -0.00414         4.12         30.2  ...    0.00253   \n",
              "\n",
              "    Flapl4   Flapl5  Flapl6  Flapl7  Flapl8  Flapl9       Flapl10   chi  Label  \n",
              "0  0.00216  0.00526  0.0226  0.0784   0.389   0.491  5.390000e-08  14.3    0.0  \n",
              "1  0.00216  0.00526  0.0226  0.0784   0.389   0.491  5.390000e-08  14.3    0.0  \n",
              "2  0.00216  0.00526  0.0226  0.0784   0.389   0.491  5.390000e-08  14.3    0.0  \n",
              "3  0.00216  0.00526  0.0226  0.0784   0.389   0.491  5.390000e-08  14.3    0.0  \n",
              "4  0.00216  0.00526  0.0226  0.0784   0.389   0.491  5.390000e-08  14.3    0.0  \n",
              "\n",
              "[5 rows x 249 columns]"
            ]
          },
          "metadata": {
            "tags": []
          },
          "execution_count": 9
        }
      ]
    },
    {
      "metadata": {
        "id": "efpKqkUyhmD7",
        "colab_type": "code",
        "colab": {}
      },
      "cell_type": "code",
      "source": [
        "X_full = df3.iloc[:,1:248].values\n",
        "y_full = df3.iloc[:,248].values"
      ],
      "execution_count": 0,
      "outputs": []
    },
    {
      "metadata": {
        "id": "fU5iFMqLhwyI",
        "colab_type": "code",
        "colab": {}
      },
      "cell_type": "code",
      "source": [
        "from sklearn.model_selection import train_test_split\n"
      ],
      "execution_count": 0,
      "outputs": []
    },
    {
      "metadata": {
        "id": "Thm8ino7hsCs",
        "colab_type": "code",
        "colab": {}
      },
      "cell_type": "code",
      "source": [
        "x_train, x_test, y_train, y_test = train_test_split(X_full, y_full, test_size = 0.3)"
      ],
      "execution_count": 0,
      "outputs": []
    },
    {
      "metadata": {
        "id": "mh-LYB2Zhum0",
        "colab_type": "code",
        "colab": {
          "base_uri": "https://localhost:8080/",
          "height": 205
        },
        "outputId": "ff6e5ed2-7c47-493c-ce6c-2ce5d32a55a1"
      },
      "cell_type": "code",
      "source": [
        "from imblearn.over_sampling import SMOTE\n",
        "from sklearn.svm import SVC\n",
        "classifier = SVC(kernel='linear', random_state=0)\n",
        "classifier.fit(x_train, y_train)"
      ],
      "execution_count": 12,
      "outputs": [
        {
          "output_type": "error",
          "ename": "NameError",
          "evalue": "ignored",
          "traceback": [
            "\u001b[0;31m---------------------------------------------------------------------------\u001b[0m",
            "\u001b[0;31mNameError\u001b[0m                                 Traceback (most recent call last)",
            "\u001b[0;32m<ipython-input-12-49ec4446ec79>\u001b[0m in \u001b[0;36m<module>\u001b[0;34m()\u001b[0m\n\u001b[1;32m      1\u001b[0m \u001b[0;32mfrom\u001b[0m \u001b[0msklearn\u001b[0m\u001b[0;34m.\u001b[0m\u001b[0msvm\u001b[0m \u001b[0;32mimport\u001b[0m \u001b[0mSVC\u001b[0m\u001b[0;34m\u001b[0m\u001b[0;34m\u001b[0m\u001b[0m\n\u001b[1;32m      2\u001b[0m \u001b[0mclassifier\u001b[0m \u001b[0;34m=\u001b[0m \u001b[0mSVC\u001b[0m\u001b[0;34m(\u001b[0m\u001b[0mkernel\u001b[0m\u001b[0;34m=\u001b[0m\u001b[0;34m'linear'\u001b[0m\u001b[0;34m,\u001b[0m \u001b[0mrandom_state\u001b[0m\u001b[0;34m=\u001b[0m\u001b[0;36m0\u001b[0m\u001b[0;34m)\u001b[0m\u001b[0;34m\u001b[0m\u001b[0;34m\u001b[0m\u001b[0m\n\u001b[0;32m----> 3\u001b[0;31m \u001b[0mclassifier\u001b[0m\u001b[0;34m.\u001b[0m\u001b[0mfit\u001b[0m\u001b[0;34m(\u001b[0m\u001b[0mx_train\u001b[0m\u001b[0;34m,\u001b[0m \u001b[0my_train\u001b[0m\u001b[0;34m)\u001b[0m\u001b[0;34m\u001b[0m\u001b[0;34m\u001b[0m\u001b[0m\n\u001b[0m",
            "\u001b[0;31mNameError\u001b[0m: name 'x_train' is not defined"
          ]
        }
      ]
    },
    {
      "metadata": {
        "id": "L-kb1IxliTxE",
        "colab_type": "code",
        "colab": {}
      },
      "cell_type": "code",
      "source": [
        "y_pred = classifier.predict(x_test)"
      ],
      "execution_count": 0,
      "outputs": []
    },
    {
      "metadata": {
        "id": "ki8AuwUFZPet",
        "colab_type": "code",
        "colab": {}
      },
      "cell_type": "code",
      "source": [
        "from sklearn.metrics import confusion_matrix\n",
        "cm = confusion_matrix(y_test, y_pred)"
      ],
      "execution_count": 0,
      "outputs": []
    },
    {
      "metadata": {
        "id": "z6dcCm21ZU8d",
        "colab_type": "code",
        "colab": {
          "base_uri": "https://localhost:8080/",
          "height": 53
        },
        "outputId": "2d2144ae-bea0-4c93-9628-c9ccd7ad67c7"
      },
      "cell_type": "code",
      "source": [
        "cm"
      ],
      "execution_count": 16,
      "outputs": [
        {
          "output_type": "execute_result",
          "data": {
            "text/plain": [
              "array([[74338,   116],\n",
              "       [  161,   182]])"
            ]
          },
          "metadata": {
            "tags": []
          },
          "execution_count": 16
        }
      ]
    },
    {
      "metadata": {
        "id": "oP4xgi1TZWnA",
        "colab_type": "code",
        "colab": {
          "base_uri": "https://localhost:8080/",
          "height": 35
        },
        "outputId": "2ed3a63f-cca6-41a7-ed5b-766c6b17481e"
      },
      "cell_type": "code",
      "source": [
        "from sklearn.metrics import accuracy_score\n",
        "accuracy_score(y_test, y_pred)"
      ],
      "execution_count": 17,
      "outputs": [
        {
          "output_type": "execute_result",
          "data": {
            "text/plain": [
              "0.9962966429134859"
            ]
          },
          "metadata": {
            "tags": []
          },
          "execution_count": 17
        }
      ]
    },
    {
      "metadata": {
        "id": "tk3FW3z7ZbUk",
        "colab_type": "code",
        "colab": {}
      },
      "cell_type": "code",
      "source": [
        "from imblearn.over_sampling import SMOTE\n",
        "sm = SMOTE(random_state=2)\n"
      ],
      "execution_count": 0,
      "outputs": []
    },
    {
      "metadata": {
        "id": "zBi7FkhRVH5B",
        "colab_type": "code",
        "colab": {}
      },
      "cell_type": "code",
      "source": [
        "X_full2 = df3.iloc[:,1:248].values\n",
        "y_full2 = df3.iloc[:,248].values"
      ],
      "execution_count": 0,
      "outputs": []
    },
    {
      "metadata": {
        "id": "vDYta2UsVJXx",
        "colab_type": "code",
        "colab": {}
      },
      "cell_type": "code",
      "source": [
        "x_train_res, y_train_res = sm.fit_sample(X_full2, y_full2.ravel())"
      ],
      "execution_count": 0,
      "outputs": []
    },
    {
      "metadata": {
        "id": "U2l9n3T0VLWP",
        "colab_type": "code",
        "colab": {}
      },
      "cell_type": "code",
      "source": [
        "x_train2, x_test2, y_train2, y_test2 = train_test_split(x_train_res, y_train_res, test_size = 0.3)"
      ],
      "execution_count": 0,
      "outputs": []
    },
    {
      "metadata": {
        "id": "zAM2QzZ7VOBp",
        "colab_type": "code",
        "colab": {}
      },
      "cell_type": "code",
      "source": [
        "from sklearn.svm import SVC\n",
        "classifier = SVC(kernel='linear', random_state=0)\n",
        "classifier.fit(x_train2, y_train2)"
      ],
      "execution_count": 0,
      "outputs": []
    },
    {
      "metadata": {
        "id": "EKD-oO2ZVWxX",
        "colab_type": "code",
        "colab": {}
      },
      "cell_type": "code",
      "source": [
        "y_pred2 = classifier.predict(x_test2)"
      ],
      "execution_count": 0,
      "outputs": []
    },
    {
      "metadata": {
        "id": "3HVomqsRVac5",
        "colab_type": "code",
        "colab": {}
      },
      "cell_type": "code",
      "source": [
        "from sklearn.metrics import confusion_matrix\n",
        "cm2 = confusion_matrix(y_test2, y_pred2)"
      ],
      "execution_count": 0,
      "outputs": []
    },
    {
      "metadata": {
        "id": "eTSdvDG7VeB8",
        "colab_type": "code",
        "colab": {}
      },
      "cell_type": "code",
      "source": [
        "cm2"
      ],
      "execution_count": 0,
      "outputs": []
    },
    {
      "metadata": {
        "id": "9ZaPxgUzVgFR",
        "colab_type": "code",
        "colab": {}
      },
      "cell_type": "code",
      "source": [
        "from sklearn.metrics import accuracy_score\n",
        "accuracy_score(y_test2, y_pred2)"
      ],
      "execution_count": 0,
      "outputs": []
    },
    {
      "metadata": {
        "id": "EXcuuVYzVioV",
        "colab_type": "code",
        "colab": {}
      },
      "cell_type": "code",
      "source": [
        ""
      ],
      "execution_count": 0,
      "outputs": []
    }
  ]
}