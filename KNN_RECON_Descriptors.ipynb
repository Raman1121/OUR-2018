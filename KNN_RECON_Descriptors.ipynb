{
  "nbformat": 4,
  "nbformat_minor": 0,
  "metadata": {
    "colab": {
      "name": "KNN RECON Descriptors.ipynb",
      "version": "0.3.2",
      "provenance": []
    },
    "kernelspec": {
      "name": "python3",
      "display_name": "Python 3"
    },
    "accelerator": "GPU"
  },
  "cells": [
    {
      "metadata": {
        "id": "u1AjgsXbnwAR",
        "colab_type": "code",
        "colab": {}
      },
      "cell_type": "code",
      "source": [
        "import numpy as np\n",
        "import pandas as pd\n",
        "import matplotlib.pyplot as plt\n",
        "%matplotlib inline"
      ],
      "execution_count": 0,
      "outputs": []
    },
    {
      "metadata": {
        "id": "ECl4k2yFn-Bg",
        "colab_type": "code",
        "colab": {
          "base_uri": "https://localhost:8080/",
          "height": 53
        },
        "outputId": "145b37ba-0936-439b-d596-6ea33ea1467e"
      },
      "cell_type": "code",
      "source": [
        "!pip install -U -q PyDrive"
      ],
      "execution_count": 2,
      "outputs": [
        {
          "output_type": "stream",
          "text": [
            "\u001b[?25l\r\u001b[K    1% |▎                               | 10kB 21.8MB/s eta 0:00:01\r\u001b[K    2% |▋                               | 20kB 3.2MB/s eta 0:00:01\r\u001b[K    3% |█                               | 30kB 4.6MB/s eta 0:00:01\r\u001b[K    4% |█▎                              | 40kB 3.0MB/s eta 0:00:01\r\u001b[K    5% |█▋                              | 51kB 3.7MB/s eta 0:00:01\r\u001b[K    6% |██                              | 61kB 4.4MB/s eta 0:00:01\r\u001b[K    7% |██▎                             | 71kB 5.1MB/s eta 0:00:01\r\u001b[K    8% |██▋                             | 81kB 5.8MB/s eta 0:00:01\r\u001b[K    9% |███                             | 92kB 6.4MB/s eta 0:00:01\r\u001b[K    10% |███▎                            | 102kB 4.9MB/s eta 0:00:01\r\u001b[K    11% |███▋                            | 112kB 4.9MB/s eta 0:00:01\r\u001b[K    12% |████                            | 122kB 6.8MB/s eta 0:00:01\r\u001b[K    13% |████▎                           | 133kB 6.8MB/s eta 0:00:01\r\u001b[K    14% |████▋                           | 143kB 12.3MB/s eta 0:00:01\r\u001b[K    15% |█████                           | 153kB 12.3MB/s eta 0:00:01\r\u001b[K    16% |█████▎                          | 163kB 12.3MB/s eta 0:00:01\r\u001b[K    17% |█████▋                          | 174kB 12.0MB/s eta 0:00:01\r\u001b[K    18% |██████                          | 184kB 12.1MB/s eta 0:00:01\r\u001b[K    19% |██████▎                         | 194kB 12.1MB/s eta 0:00:01\r\u001b[K    20% |██████▋                         | 204kB 46.3MB/s eta 0:00:01\r\u001b[K    21% |███████                         | 215kB 14.1MB/s eta 0:00:01\r\u001b[K    22% |███████▎                        | 225kB 14.2MB/s eta 0:00:01\r\u001b[K    23% |███████▋                        | 235kB 14.4MB/s eta 0:00:01\r\u001b[K    24% |████████                        | 245kB 14.3MB/s eta 0:00:01\r\u001b[K    25% |████████▎                       | 256kB 14.3MB/s eta 0:00:01\r\u001b[K    26% |████████▋                       | 266kB 13.9MB/s eta 0:00:01\r\u001b[K    27% |█████████                       | 276kB 14.3MB/s eta 0:00:01\r\u001b[K    29% |█████████▎                      | 286kB 14.3MB/s eta 0:00:01\r\u001b[K    30% |█████████▋                      | 296kB 14.3MB/s eta 0:00:01\r\u001b[K    31% |██████████                      | 307kB 14.6MB/s eta 0:00:01\r\u001b[K    32% |██████████▎                     | 317kB 53.7MB/s eta 0:00:01\r\u001b[K    33% |██████████▋                     | 327kB 52.9MB/s eta 0:00:01\r\u001b[K    34% |███████████                     | 337kB 53.6MB/s eta 0:00:01\r\u001b[K    35% |███████████▎                    | 348kB 48.1MB/s eta 0:00:01\r\u001b[K    36% |███████████▋                    | 358kB 48.4MB/s eta 0:00:01\r\u001b[K    37% |████████████                    | 368kB 55.0MB/s eta 0:00:01\r\u001b[K    38% |████████████▎                   | 378kB 17.2MB/s eta 0:00:01\r\u001b[K    39% |████████████▋                   | 389kB 17.2MB/s eta 0:00:01\r\u001b[K    40% |█████████████                   | 399kB 17.2MB/s eta 0:00:01\r\u001b[K    41% |█████████████▎                  | 409kB 17.1MB/s eta 0:00:01\r\u001b[K    42% |█████████████▋                  | 419kB 17.2MB/s eta 0:00:01\r\u001b[K    43% |██████████████                  | 430kB 17.2MB/s eta 0:00:01\r\u001b[K    44% |██████████████▎                 | 440kB 17.2MB/s eta 0:00:01\r\u001b[K    45% |██████████████▋                 | 450kB 17.7MB/s eta 0:00:01\r\u001b[K    46% |███████████████                 | 460kB 17.6MB/s eta 0:00:01\r\u001b[K    47% |███████████████▎                | 471kB 17.7MB/s eta 0:00:01\r\u001b[K    48% |███████████████▋                | 481kB 60.8MB/s eta 0:00:01\r\u001b[K    49% |████████████████                | 491kB 61.0MB/s eta 0:00:01\r\u001b[K    50% |████████████████▎               | 501kB 62.6MB/s eta 0:00:01\r\u001b[K    51% |████████████████▋               | 512kB 58.5MB/s eta 0:00:01\r\u001b[K    52% |█████████████████               | 522kB 58.3MB/s eta 0:00:01\r\u001b[K    53% |█████████████████▎              | 532kB 59.4MB/s eta 0:00:01\r\u001b[K    54% |█████████████████▋              | 542kB 15.6MB/s eta 0:00:01\r\u001b[K    55% |██████████████████              | 552kB 15.5MB/s eta 0:00:01\r\u001b[K    57% |██████████████████▎             | 563kB 15.5MB/s eta 0:00:01\r\u001b[K    58% |██████████████████▋             | 573kB 15.4MB/s eta 0:00:01\r\u001b[K    59% |███████████████████             | 583kB 15.4MB/s eta 0:00:01\r\u001b[K    60% |███████████████████▎            | 593kB 15.4MB/s eta 0:00:01\r\u001b[K    61% |███████████████████▋            | 604kB 15.3MB/s eta 0:00:01\r\u001b[K    62% |████████████████████            | 614kB 15.6MB/s eta 0:00:01\r\u001b[K    63% |████████████████████▎           | 624kB 15.6MB/s eta 0:00:01\r\u001b[K    64% |████████████████████▋           | 634kB 15.6MB/s eta 0:00:01\r\u001b[K    65% |█████████████████████           | 645kB 58.9MB/s eta 0:00:01\r\u001b[K    66% |█████████████████████▎          | 655kB 62.0MB/s eta 0:00:01\r\u001b[K    67% |█████████████████████▋          | 665kB 49.6MB/s eta 0:00:01\r\u001b[K    68% |██████████████████████          | 675kB 49.5MB/s eta 0:00:01\r\u001b[K    69% |██████████████████████▎         | 686kB 49.7MB/s eta 0:00:01\r\u001b[K    70% |██████████████████████▋         | 696kB 50.2MB/s eta 0:00:01\r\u001b[K    71% |███████████████████████         | 706kB 49.8MB/s eta 0:00:01\r\u001b[K    72% |███████████████████████▎        | 716kB 50.2MB/s eta 0:00:01\r\u001b[K    73% |███████████████████████▋        | 727kB 50.4MB/s eta 0:00:01\r\u001b[K    74% |████████████████████████        | 737kB 50.3MB/s eta 0:00:01\r\u001b[K    75% |████████████████████████▎       | 747kB 51.2MB/s eta 0:00:01\r\u001b[K    76% |████████████████████████▋       | 757kB 51.9MB/s eta 0:00:01\r\u001b[K    77% |████████████████████████▉       | 768kB 67.7MB/s eta 0:00:01\r\u001b[K    78% |█████████████████████████▏      | 778kB 67.6MB/s eta 0:00:01\r\u001b[K    79% |█████████████████████████▌      | 788kB 67.1MB/s eta 0:00:01\r\u001b[K    80% |█████████████████████████▉      | 798kB 67.5MB/s eta 0:00:01\r\u001b[K    81% |██████████████████████████▏     | 808kB 68.5MB/s eta 0:00:01\r\u001b[K    82% |██████████████████████████▌     | 819kB 67.3MB/s eta 0:00:01\r\u001b[K    83% |██████████████████████████▉     | 829kB 67.7MB/s eta 0:00:01\r\u001b[K    85% |███████████████████████████▏    | 839kB 66.7MB/s eta 0:00:01\r\u001b[K    86% |███████████████████████████▌    | 849kB 66.3MB/s eta 0:00:01\r\u001b[K    87% |███████████████████████████▉    | 860kB 60.4MB/s eta 0:00:01\r\u001b[K    88% |████████████████████████████▏   | 870kB 58.8MB/s eta 0:00:01\r\u001b[K    89% |████████████████████████████▌   | 880kB 59.9MB/s eta 0:00:01\r\u001b[K    90% |████████████████████████████▉   | 890kB 59.7MB/s eta 0:00:01\r\u001b[K    91% |█████████████████████████████▏  | 901kB 58.8MB/s eta 0:00:01\r\u001b[K    92% |█████████████████████████████▌  | 911kB 59.3MB/s eta 0:00:01\r\u001b[K    93% |█████████████████████████████▉  | 921kB 59.8MB/s eta 0:00:01\r\u001b[K    94% |██████████████████████████████▏ | 931kB 60.1MB/s eta 0:00:01\r\u001b[K    95% |██████████████████████████████▌ | 942kB 60.6MB/s eta 0:00:01\r\u001b[K    96% |██████████████████████████████▉ | 952kB 60.3MB/s eta 0:00:01\r\u001b[K    97% |███████████████████████████████▏| 962kB 67.2MB/s eta 0:00:01\r\u001b[K    98% |███████████████████████████████▌| 972kB 68.4MB/s eta 0:00:01\r\u001b[K    99% |███████████████████████████████▉| 983kB 68.2MB/s eta 0:00:01\r\u001b[K    100% |████████████████████████████████| 993kB 21.8MB/s \n",
            "\u001b[?25h  Building wheel for PyDrive (setup.py) ... \u001b[?25ldone\n",
            "\u001b[?25h"
          ],
          "name": "stdout"
        }
      ]
    },
    {
      "metadata": {
        "id": "gZiDgwPhoCHW",
        "colab_type": "code",
        "colab": {}
      },
      "cell_type": "code",
      "source": [
        "from pydrive.auth import GoogleAuth\n",
        "from pydrive.drive import GoogleDrive\n",
        "from google.colab import auth\n",
        "from oauth2client.client import GoogleCredentials"
      ],
      "execution_count": 0,
      "outputs": []
    },
    {
      "metadata": {
        "id": "RWbqo6fLoFI_",
        "colab_type": "code",
        "colab": {}
      },
      "cell_type": "code",
      "source": [
        "auth.authenticate_user()\n",
        "gauth = GoogleAuth()\n",
        "gauth.credentials = GoogleCredentials.get_application_default()\n",
        "drive = GoogleDrive(gauth)"
      ],
      "execution_count": 0,
      "outputs": []
    },
    {
      "metadata": {
        "id": "7tKUTtAKoGFQ",
        "colab_type": "code",
        "colab": {
          "base_uri": "https://localhost:8080/",
          "height": 35
        },
        "outputId": "4b4bb3fc-549a-4723-bd42-30e84442af68"
      },
      "cell_type": "code",
      "source": [
        "link = 'https://drive.google.com/open?id=17SEdE-e3PW40h2P7ms9p_k5rA5S03lJS'\n",
        "fluff, id = link.split('=')\n",
        "print(id)"
      ],
      "execution_count": 5,
      "outputs": [
        {
          "output_type": "stream",
          "text": [
            "17SEdE-e3PW40h2P7ms9p_k5rA5S03lJS\n"
          ],
          "name": "stdout"
        }
      ]
    },
    {
      "metadata": {
        "id": "oDVMQAOToIub",
        "colab_type": "code",
        "colab": {}
      },
      "cell_type": "code",
      "source": [
        "downloaded = drive.CreateFile({'id':id}) \n",
        "downloaded.GetContentFile('Filename.csv') "
      ],
      "execution_count": 0,
      "outputs": []
    },
    {
      "metadata": {
        "id": "ME1g1IrroKbN",
        "colab_type": "code",
        "colab": {}
      },
      "cell_type": "code",
      "source": [
        "import pandas as pd\n",
        "df3 = pd.read_csv('Filename.csv')\n"
      ],
      "execution_count": 0,
      "outputs": []
    },
    {
      "metadata": {
        "id": "7Q53-DxVoNlt",
        "colab_type": "code",
        "colab": {}
      },
      "cell_type": "code",
      "source": [
        "X_full = df3.iloc[:,1:248].values\n",
        "y_full = df3.iloc[:,248].values"
      ],
      "execution_count": 0,
      "outputs": []
    },
    {
      "metadata": {
        "id": "l4NXJSyhoQf4",
        "colab_type": "code",
        "colab": {}
      },
      "cell_type": "code",
      "source": [
        "from sklearn.model_selection import train_test_split\n",
        "x_train, x_test, y_train, y_test = train_test_split(X_full, y_full, test_size = 0.3)"
      ],
      "execution_count": 0,
      "outputs": []
    },
    {
      "metadata": {
        "id": "_pGLeqycoUT1",
        "colab_type": "code",
        "colab": {}
      },
      "cell_type": "code",
      "source": [
        "# Perform KNN\n",
        "from sklearn.neighbors import KNeighborsClassifier\n",
        "\n",
        "knn = KNeighborsClassifier(n_neighbors = 5, p=2,metric='minkowski')"
      ],
      "execution_count": 0,
      "outputs": []
    },
    {
      "metadata": {
        "id": "OtHcf8-sopW2",
        "colab_type": "code",
        "colab": {
          "base_uri": "https://localhost:8080/",
          "height": 71
        },
        "outputId": "5eaadc04-40c4-4468-f8b8-d233696a30f3"
      },
      "cell_type": "code",
      "source": [
        "knn.fit(x_train, y_train)"
      ],
      "execution_count": 12,
      "outputs": [
        {
          "output_type": "execute_result",
          "data": {
            "text/plain": [
              "KNeighborsClassifier(algorithm='auto', leaf_size=30, metric='minkowski',\n",
              "           metric_params=None, n_jobs=None, n_neighbors=5, p=2,\n",
              "           weights='uniform')"
            ]
          },
          "metadata": {
            "tags": []
          },
          "execution_count": 12
        }
      ]
    },
    {
      "metadata": {
        "id": "5A1nEKeSosMt",
        "colab_type": "code",
        "colab": {}
      },
      "cell_type": "code",
      "source": [
        "y_pred = knn.predict(x_test)"
      ],
      "execution_count": 0,
      "outputs": []
    },
    {
      "metadata": {
        "id": "YuzZNNncpEjA",
        "colab_type": "code",
        "colab": {
          "base_uri": "https://localhost:8080/",
          "height": 35
        },
        "outputId": "f21d84ff-c2b0-4af4-dc35-86dabe21203a"
      },
      "cell_type": "code",
      "source": [
        "y_pred.shape"
      ],
      "execution_count": 19,
      "outputs": [
        {
          "output_type": "execute_result",
          "data": {
            "text/plain": [
              "(74797,)"
            ]
          },
          "metadata": {
            "tags": []
          },
          "execution_count": 19
        }
      ]
    },
    {
      "metadata": {
        "id": "cRSSOepJo1b1",
        "colab_type": "code",
        "colab": {}
      },
      "cell_type": "code",
      "source": [
        "from sklearn.metrics import confusion_matrix"
      ],
      "execution_count": 0,
      "outputs": []
    },
    {
      "metadata": {
        "id": "QdNFnVpio59Y",
        "colab_type": "code",
        "colab": {}
      },
      "cell_type": "code",
      "source": [
        "cm = confusion_matrix(y_test, y_pred)"
      ],
      "execution_count": 0,
      "outputs": []
    },
    {
      "metadata": {
        "id": "rmbqB3hro8vN",
        "colab_type": "code",
        "colab": {
          "base_uri": "https://localhost:8080/",
          "height": 53
        },
        "outputId": "d3a0a6e1-0d22-4bda-ae23-72813c3b3d52"
      },
      "cell_type": "code",
      "source": [
        "cm"
      ],
      "execution_count": 22,
      "outputs": [
        {
          "output_type": "execute_result",
          "data": {
            "text/plain": [
              "array([[74489,     6],\n",
              "       [   20,   282]])"
            ]
          },
          "metadata": {
            "tags": []
          },
          "execution_count": 22
        }
      ]
    },
    {
      "metadata": {
        "id": "H-nRWLmVpUm_",
        "colab_type": "code",
        "colab": {}
      },
      "cell_type": "code",
      "source": [
        "# Calculating the Accuracy\n",
        "from sklearn.metrics import accuracy_score"
      ],
      "execution_count": 0,
      "outputs": []
    },
    {
      "metadata": {
        "id": "PHOKuPuxpdI2",
        "colab_type": "code",
        "colab": {
          "base_uri": "https://localhost:8080/",
          "height": 35
        },
        "outputId": "2b691333-eb1e-4b53-9883-2330befe352a"
      },
      "cell_type": "code",
      "source": [
        "accuracy_score(y_test, y_pred)"
      ],
      "execution_count": 24,
      "outputs": [
        {
          "output_type": "execute_result",
          "data": {
            "text/plain": [
              "0.9996523924756341"
            ]
          },
          "metadata": {
            "tags": []
          },
          "execution_count": 24
        }
      ]
    },
    {
      "metadata": {
        "id": "9dHoB65ZpfiF",
        "colab_type": "code",
        "colab": {}
      },
      "cell_type": "code",
      "source": [
        "from imblearn.over_sampling import SMOTE\n",
        "sm = SMOTE(random_state=2)"
      ],
      "execution_count": 0,
      "outputs": []
    },
    {
      "metadata": {
        "id": "GrXy-rbZTS0Z",
        "colab_type": "code",
        "colab": {}
      },
      "cell_type": "code",
      "source": [
        "X_full2 = df3.iloc[:,1:248].values\n",
        "y_full2 = df3.iloc[:,248].values"
      ],
      "execution_count": 0,
      "outputs": []
    },
    {
      "metadata": {
        "id": "sz173tqgTUqZ",
        "colab_type": "code",
        "colab": {
          "base_uri": "https://localhost:8080/",
          "height": 35
        },
        "outputId": "3617bd3b-e6bc-49bb-f87e-75d09b7d81dd"
      },
      "cell_type": "code",
      "source": [
        "X_full2.shape, y_full2.shape"
      ],
      "execution_count": 12,
      "outputs": [
        {
          "output_type": "execute_result",
          "data": {
            "text/plain": [
              "((249322, 247), (249322,))"
            ]
          },
          "metadata": {
            "tags": []
          },
          "execution_count": 12
        }
      ]
    },
    {
      "metadata": {
        "id": "OF8iWJLdTX-9",
        "colab_type": "code",
        "colab": {
          "base_uri": "https://localhost:8080/",
          "height": 89
        },
        "outputId": "5904a5b8-b986-4e45-e274-7fc5097f8b05"
      },
      "cell_type": "code",
      "source": [
        "df3.groupby(\"Label\").size()"
      ],
      "execution_count": 13,
      "outputs": [
        {
          "output_type": "execute_result",
          "data": {
            "text/plain": [
              "Label\n",
              "0.0    248250\n",
              "1.0      1072\n",
              "dtype: int64"
            ]
          },
          "metadata": {
            "tags": []
          },
          "execution_count": 13
        }
      ]
    },
    {
      "metadata": {
        "id": "qf3C1698Td3z",
        "colab_type": "code",
        "colab": {}
      },
      "cell_type": "code",
      "source": [
        "x_train_res, y_train_res = sm.fit_sample(X_full2, y_full2.ravel())"
      ],
      "execution_count": 0,
      "outputs": []
    },
    {
      "metadata": {
        "id": "dZ4LUhm-TmFk",
        "colab_type": "code",
        "colab": {
          "base_uri": "https://localhost:8080/",
          "height": 35
        },
        "outputId": "29fa1ac0-ae10-462f-fd76-585fdfc48565"
      },
      "cell_type": "code",
      "source": [
        "x_train_res.shape, y_train_res.shape"
      ],
      "execution_count": 15,
      "outputs": [
        {
          "output_type": "execute_result",
          "data": {
            "text/plain": [
              "((496500, 247), (496500,))"
            ]
          },
          "metadata": {
            "tags": []
          },
          "execution_count": 15
        }
      ]
    },
    {
      "metadata": {
        "id": "5N6PGAanToo6",
        "colab_type": "code",
        "colab": {}
      },
      "cell_type": "code",
      "source": [
        "x_train2, x_test2, y_train2, y_test2 = train_test_split(x_train_res, y_train_res, test_size = 0.3)"
      ],
      "execution_count": 0,
      "outputs": []
    },
    {
      "metadata": {
        "id": "6NvcMg-xTrKg",
        "colab_type": "code",
        "colab": {
          "base_uri": "https://localhost:8080/",
          "height": 35
        },
        "outputId": "0ffb452f-be0d-435b-d02e-ae82a56b3dc3"
      },
      "cell_type": "code",
      "source": [
        "x_train2.shape, x_test2.shape, y_train2.shape, y_test2.shape"
      ],
      "execution_count": 17,
      "outputs": [
        {
          "output_type": "execute_result",
          "data": {
            "text/plain": [
              "((347550, 247), (148950, 247), (347550,), (148950,))"
            ]
          },
          "metadata": {
            "tags": []
          },
          "execution_count": 17
        }
      ]
    },
    {
      "metadata": {
        "id": "ZGqlbmm1T-jt",
        "colab_type": "code",
        "colab": {}
      },
      "cell_type": "code",
      "source": [
        "# Perform KNN\n",
        "from sklearn.neighbors import KNeighborsClassifier\n",
        "\n",
        "knn = KNeighborsClassifier(n_neighbors = 5, p=2,metric='minkowski')"
      ],
      "execution_count": 0,
      "outputs": []
    },
    {
      "metadata": {
        "id": "p2u3QVhLUIPm",
        "colab_type": "code",
        "colab": {
          "base_uri": "https://localhost:8080/",
          "height": 71
        },
        "outputId": "630fb058-49d8-4a1b-c55f-d61fd97f1825"
      },
      "cell_type": "code",
      "source": [
        "knn.fit(x_train2, y_train2)"
      ],
      "execution_count": 20,
      "outputs": [
        {
          "output_type": "execute_result",
          "data": {
            "text/plain": [
              "KNeighborsClassifier(algorithm='auto', leaf_size=30, metric='minkowski',\n",
              "           metric_params=None, n_jobs=None, n_neighbors=5, p=2,\n",
              "           weights='uniform')"
            ]
          },
          "metadata": {
            "tags": []
          },
          "execution_count": 20
        }
      ]
    },
    {
      "metadata": {
        "id": "WYpwzYkhUiYb",
        "colab_type": "code",
        "colab": {}
      },
      "cell_type": "code",
      "source": [
        "y_pred2 = knn.predict(x_test2)"
      ],
      "execution_count": 0,
      "outputs": []
    },
    {
      "metadata": {
        "id": "fPS2Y_x8UOMM",
        "colab_type": "code",
        "colab": {}
      },
      "cell_type": "code",
      "source": [
        "from sklearn.metrics import confusion_matrix\n",
        "cm = confusion_matrix(y_test2, y_pred2)"
      ],
      "execution_count": 0,
      "outputs": []
    },
    {
      "metadata": {
        "id": "4ZeJ9npTU4C3",
        "colab_type": "code",
        "colab": {
          "base_uri": "https://localhost:8080/",
          "height": 53
        },
        "outputId": "fd5438de-a64e-439f-f05b-1d1dc061f1f1"
      },
      "cell_type": "code",
      "source": [
        "cm"
      ],
      "execution_count": 23,
      "outputs": [
        {
          "output_type": "execute_result",
          "data": {
            "text/plain": [
              "array([[74495,    41],\n",
              "       [    0, 74414]])"
            ]
          },
          "metadata": {
            "tags": []
          },
          "execution_count": 23
        }
      ]
    },
    {
      "metadata": {
        "id": "LqA72o-9VlT4",
        "colab_type": "code",
        "colab": {
          "base_uri": "https://localhost:8080/",
          "height": 35
        },
        "outputId": "aaa4b72d-3113-4e49-e5f7-61430959f549"
      },
      "cell_type": "code",
      "source": [
        "from sklearn.metrics import accuracy_score\n",
        "accuracy_score(y_test2, y_pred2)"
      ],
      "execution_count": 24,
      "outputs": [
        {
          "output_type": "execute_result",
          "data": {
            "text/plain": [
              "0.9997247398455857"
            ]
          },
          "metadata": {
            "tags": []
          },
          "execution_count": 24
        }
      ]
    },
    {
      "metadata": {
        "id": "M3dpM0oOVoU1",
        "colab_type": "code",
        "colab": {}
      },
      "cell_type": "code",
      "source": [
        ""
      ],
      "execution_count": 0,
      "outputs": []
    }
  ]
}